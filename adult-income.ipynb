{
 "cells": [
  {
   "cell_type": "code",
   "execution_count": 114,
   "metadata": {},
   "outputs": [],
   "source": [
    "import pandas as pd\n",
    "import numpy as np\n",
    "import matplotlib.pyplot as plt\n",
    "import seaborn as sns\n",
    "\n",
    "import warnings\n",
    "warnings.filterwarnings('ignore')"
   ]
  },
  {
   "cell_type": "code",
   "execution_count": null,
   "metadata": {},
   "outputs": [],
   "source": []
  },
  {
   "cell_type": "code",
   "execution_count": null,
   "metadata": {},
   "outputs": [],
   "source": []
  },
  {
   "cell_type": "code",
   "execution_count": 8,
   "metadata": {
    "scrolled": true
   },
   "outputs": [
    {
     "data": {
      "text/html": [
       "<div>\n",
       "<style scoped>\n",
       "    .dataframe tbody tr th:only-of-type {\n",
       "        vertical-align: middle;\n",
       "    }\n",
       "\n",
       "    .dataframe tbody tr th {\n",
       "        vertical-align: top;\n",
       "    }\n",
       "\n",
       "    .dataframe thead th {\n",
       "        text-align: right;\n",
       "    }\n",
       "</style>\n",
       "<table border=\"1\" class=\"dataframe\">\n",
       "  <thead>\n",
       "    <tr style=\"text-align: right;\">\n",
       "      <th></th>\n",
       "      <th>age</th>\n",
       "      <th>workclass</th>\n",
       "      <th>fnlwgt</th>\n",
       "      <th>education</th>\n",
       "      <th>educational-num</th>\n",
       "      <th>marital-status</th>\n",
       "      <th>occupation</th>\n",
       "      <th>relationship</th>\n",
       "      <th>race</th>\n",
       "      <th>gender</th>\n",
       "      <th>capital-gain</th>\n",
       "      <th>capital-loss</th>\n",
       "      <th>hours-per-week</th>\n",
       "      <th>native-country</th>\n",
       "      <th>income</th>\n",
       "    </tr>\n",
       "  </thead>\n",
       "  <tbody>\n",
       "    <tr>\n",
       "      <th>0</th>\n",
       "      <td>25</td>\n",
       "      <td>Private</td>\n",
       "      <td>226802</td>\n",
       "      <td>11th</td>\n",
       "      <td>7</td>\n",
       "      <td>Never-married</td>\n",
       "      <td>Machine-op-inspct</td>\n",
       "      <td>Own-child</td>\n",
       "      <td>Black</td>\n",
       "      <td>Male</td>\n",
       "      <td>0</td>\n",
       "      <td>0</td>\n",
       "      <td>40</td>\n",
       "      <td>United-States</td>\n",
       "      <td>&lt;=50K</td>\n",
       "    </tr>\n",
       "    <tr>\n",
       "      <th>1</th>\n",
       "      <td>38</td>\n",
       "      <td>Private</td>\n",
       "      <td>89814</td>\n",
       "      <td>HS-grad</td>\n",
       "      <td>9</td>\n",
       "      <td>Married-civ-spouse</td>\n",
       "      <td>Farming-fishing</td>\n",
       "      <td>Husband</td>\n",
       "      <td>White</td>\n",
       "      <td>Male</td>\n",
       "      <td>0</td>\n",
       "      <td>0</td>\n",
       "      <td>50</td>\n",
       "      <td>United-States</td>\n",
       "      <td>&lt;=50K</td>\n",
       "    </tr>\n",
       "    <tr>\n",
       "      <th>2</th>\n",
       "      <td>28</td>\n",
       "      <td>Local-gov</td>\n",
       "      <td>336951</td>\n",
       "      <td>Assoc-acdm</td>\n",
       "      <td>12</td>\n",
       "      <td>Married-civ-spouse</td>\n",
       "      <td>Protective-serv</td>\n",
       "      <td>Husband</td>\n",
       "      <td>White</td>\n",
       "      <td>Male</td>\n",
       "      <td>0</td>\n",
       "      <td>0</td>\n",
       "      <td>40</td>\n",
       "      <td>United-States</td>\n",
       "      <td>&gt;50K</td>\n",
       "    </tr>\n",
       "    <tr>\n",
       "      <th>3</th>\n",
       "      <td>44</td>\n",
       "      <td>Private</td>\n",
       "      <td>160323</td>\n",
       "      <td>Some-college</td>\n",
       "      <td>10</td>\n",
       "      <td>Married-civ-spouse</td>\n",
       "      <td>Machine-op-inspct</td>\n",
       "      <td>Husband</td>\n",
       "      <td>Black</td>\n",
       "      <td>Male</td>\n",
       "      <td>7688</td>\n",
       "      <td>0</td>\n",
       "      <td>40</td>\n",
       "      <td>United-States</td>\n",
       "      <td>&gt;50K</td>\n",
       "    </tr>\n",
       "    <tr>\n",
       "      <th>4</th>\n",
       "      <td>18</td>\n",
       "      <td>?</td>\n",
       "      <td>103497</td>\n",
       "      <td>Some-college</td>\n",
       "      <td>10</td>\n",
       "      <td>Never-married</td>\n",
       "      <td>?</td>\n",
       "      <td>Own-child</td>\n",
       "      <td>White</td>\n",
       "      <td>Female</td>\n",
       "      <td>0</td>\n",
       "      <td>0</td>\n",
       "      <td>30</td>\n",
       "      <td>United-States</td>\n",
       "      <td>&lt;=50K</td>\n",
       "    </tr>\n",
       "    <tr>\n",
       "      <th>...</th>\n",
       "      <td>...</td>\n",
       "      <td>...</td>\n",
       "      <td>...</td>\n",
       "      <td>...</td>\n",
       "      <td>...</td>\n",
       "      <td>...</td>\n",
       "      <td>...</td>\n",
       "      <td>...</td>\n",
       "      <td>...</td>\n",
       "      <td>...</td>\n",
       "      <td>...</td>\n",
       "      <td>...</td>\n",
       "      <td>...</td>\n",
       "      <td>...</td>\n",
       "      <td>...</td>\n",
       "    </tr>\n",
       "    <tr>\n",
       "      <th>48837</th>\n",
       "      <td>27</td>\n",
       "      <td>Private</td>\n",
       "      <td>257302</td>\n",
       "      <td>Assoc-acdm</td>\n",
       "      <td>12</td>\n",
       "      <td>Married-civ-spouse</td>\n",
       "      <td>Tech-support</td>\n",
       "      <td>Wife</td>\n",
       "      <td>White</td>\n",
       "      <td>Female</td>\n",
       "      <td>0</td>\n",
       "      <td>0</td>\n",
       "      <td>38</td>\n",
       "      <td>United-States</td>\n",
       "      <td>&lt;=50K</td>\n",
       "    </tr>\n",
       "    <tr>\n",
       "      <th>48838</th>\n",
       "      <td>40</td>\n",
       "      <td>Private</td>\n",
       "      <td>154374</td>\n",
       "      <td>HS-grad</td>\n",
       "      <td>9</td>\n",
       "      <td>Married-civ-spouse</td>\n",
       "      <td>Machine-op-inspct</td>\n",
       "      <td>Husband</td>\n",
       "      <td>White</td>\n",
       "      <td>Male</td>\n",
       "      <td>0</td>\n",
       "      <td>0</td>\n",
       "      <td>40</td>\n",
       "      <td>United-States</td>\n",
       "      <td>&gt;50K</td>\n",
       "    </tr>\n",
       "    <tr>\n",
       "      <th>48839</th>\n",
       "      <td>58</td>\n",
       "      <td>Private</td>\n",
       "      <td>151910</td>\n",
       "      <td>HS-grad</td>\n",
       "      <td>9</td>\n",
       "      <td>Widowed</td>\n",
       "      <td>Adm-clerical</td>\n",
       "      <td>Unmarried</td>\n",
       "      <td>White</td>\n",
       "      <td>Female</td>\n",
       "      <td>0</td>\n",
       "      <td>0</td>\n",
       "      <td>40</td>\n",
       "      <td>United-States</td>\n",
       "      <td>&lt;=50K</td>\n",
       "    </tr>\n",
       "    <tr>\n",
       "      <th>48840</th>\n",
       "      <td>22</td>\n",
       "      <td>Private</td>\n",
       "      <td>201490</td>\n",
       "      <td>HS-grad</td>\n",
       "      <td>9</td>\n",
       "      <td>Never-married</td>\n",
       "      <td>Adm-clerical</td>\n",
       "      <td>Own-child</td>\n",
       "      <td>White</td>\n",
       "      <td>Male</td>\n",
       "      <td>0</td>\n",
       "      <td>0</td>\n",
       "      <td>20</td>\n",
       "      <td>United-States</td>\n",
       "      <td>&lt;=50K</td>\n",
       "    </tr>\n",
       "    <tr>\n",
       "      <th>48841</th>\n",
       "      <td>52</td>\n",
       "      <td>Self-emp-inc</td>\n",
       "      <td>287927</td>\n",
       "      <td>HS-grad</td>\n",
       "      <td>9</td>\n",
       "      <td>Married-civ-spouse</td>\n",
       "      <td>Exec-managerial</td>\n",
       "      <td>Wife</td>\n",
       "      <td>White</td>\n",
       "      <td>Female</td>\n",
       "      <td>15024</td>\n",
       "      <td>0</td>\n",
       "      <td>40</td>\n",
       "      <td>United-States</td>\n",
       "      <td>&gt;50K</td>\n",
       "    </tr>\n",
       "  </tbody>\n",
       "</table>\n",
       "<p>48842 rows × 15 columns</p>\n",
       "</div>"
      ],
      "text/plain": [
       "       age     workclass  fnlwgt     education  educational-num  \\\n",
       "0       25       Private  226802          11th                7   \n",
       "1       38       Private   89814       HS-grad                9   \n",
       "2       28     Local-gov  336951    Assoc-acdm               12   \n",
       "3       44       Private  160323  Some-college               10   \n",
       "4       18             ?  103497  Some-college               10   \n",
       "...    ...           ...     ...           ...              ...   \n",
       "48837   27       Private  257302    Assoc-acdm               12   \n",
       "48838   40       Private  154374       HS-grad                9   \n",
       "48839   58       Private  151910       HS-grad                9   \n",
       "48840   22       Private  201490       HS-grad                9   \n",
       "48841   52  Self-emp-inc  287927       HS-grad                9   \n",
       "\n",
       "           marital-status         occupation relationship   race  gender  \\\n",
       "0           Never-married  Machine-op-inspct    Own-child  Black    Male   \n",
       "1      Married-civ-spouse    Farming-fishing      Husband  White    Male   \n",
       "2      Married-civ-spouse    Protective-serv      Husband  White    Male   \n",
       "3      Married-civ-spouse  Machine-op-inspct      Husband  Black    Male   \n",
       "4           Never-married                  ?    Own-child  White  Female   \n",
       "...                   ...                ...          ...    ...     ...   \n",
       "48837  Married-civ-spouse       Tech-support         Wife  White  Female   \n",
       "48838  Married-civ-spouse  Machine-op-inspct      Husband  White    Male   \n",
       "48839             Widowed       Adm-clerical    Unmarried  White  Female   \n",
       "48840       Never-married       Adm-clerical    Own-child  White    Male   \n",
       "48841  Married-civ-spouse    Exec-managerial         Wife  White  Female   \n",
       "\n",
       "       capital-gain  capital-loss  hours-per-week native-country income  \n",
       "0                 0             0              40  United-States  <=50K  \n",
       "1                 0             0              50  United-States  <=50K  \n",
       "2                 0             0              40  United-States   >50K  \n",
       "3              7688             0              40  United-States   >50K  \n",
       "4                 0             0              30  United-States  <=50K  \n",
       "...             ...           ...             ...            ...    ...  \n",
       "48837             0             0              38  United-States  <=50K  \n",
       "48838             0             0              40  United-States   >50K  \n",
       "48839             0             0              40  United-States  <=50K  \n",
       "48840             0             0              20  United-States  <=50K  \n",
       "48841         15024             0              40  United-States   >50K  \n",
       "\n",
       "[48842 rows x 15 columns]"
      ]
     },
     "execution_count": 8,
     "metadata": {},
     "output_type": "execute_result"
    }
   ],
   "source": [
    "data = pd.read_csv(\"data/adult.csv\")\n",
    "data"
   ]
  },
  {
   "cell_type": "markdown",
   "metadata": {},
   "source": [
    "# Data Preprocessing"
   ]
  },
  {
   "cell_type": "code",
   "execution_count": null,
   "metadata": {},
   "outputs": [],
   "source": [
    "# data.custody_status.unique()"
   ]
  },
  {
   "cell_type": "code",
   "execution_count": 9,
   "metadata": {},
   "outputs": [],
   "source": [
    "# data.manner_of_death[(data.manner_of_death != 'Suicide') &\n",
    "#                      (data.manner_of_death != 'Natural') &\n",
    "#                     (data.manner_of_death != 'Accidental') &\n",
    "#                     (data.manner_of_death != 'Homicide') &\n",
    "#                     (data.manner_of_death != 'Cannot be Determined')] = \"Other\""
   ]
  },
  {
   "cell_type": "code",
   "execution_count": 11,
   "metadata": {},
   "outputs": [],
   "source": [
    "# data.custody_status[(data.custody_status != 'Sentenced') &\n",
    "#                      (data.custody_status != 'Awaiting Booking') &\n",
    "#                     (data.custody_status != 'Booked - Awaiting Trial') &\n",
    "#                     (data.custody_status != 'Booked - No Charges Filed')] = \"Other\""
   ]
  },
  {
   "cell_type": "code",
   "execution_count": 10,
   "metadata": {},
   "outputs": [],
   "source": [
    "# data.race[(data.race != 'White') &\n",
    "#                      (data.race != 'Hispanic') &\n",
    "#                     (data.race != 'Black')] = \"Other\""
   ]
  },
  {
   "cell_type": "code",
   "execution_count": 12,
   "metadata": {},
   "outputs": [
    {
     "data": {
      "text/plain": [
       "array(['Black', 'White', 'Asian-Pac-Islander', 'Other',\n",
       "       'Amer-Indian-Eskimo'], dtype=object)"
      ]
     },
     "execution_count": 12,
     "metadata": {},
     "output_type": "execute_result"
    }
   ],
   "source": [
    "data.race.unique()"
   ]
  },
  {
   "cell_type": "code",
   "execution_count": 13,
   "metadata": {},
   "outputs": [],
   "source": [
    "# data = data[data.age != 'Unk']\n",
    "data.age = data.age.astype(int)"
   ]
  },
  {
   "cell_type": "code",
   "execution_count": 14,
   "metadata": {},
   "outputs": [],
   "source": [
    "# data.manner_of_death.unique()"
   ]
  },
  {
   "cell_type": "code",
   "execution_count": 15,
   "metadata": {},
   "outputs": [],
   "source": [
    "# data.custody_status.unique()"
   ]
  },
  {
   "cell_type": "code",
   "execution_count": 16,
   "metadata": {},
   "outputs": [
    {
     "data": {
      "text/plain": [
       "array([25, 38, 28, 44, 18, 34, 29, 63, 24, 55, 65, 36, 26, 58, 48, 43, 20,\n",
       "       37, 40, 72, 45, 22, 23, 54, 32, 46, 56, 17, 39, 52, 21, 42, 33, 30,\n",
       "       47, 41, 19, 69, 50, 31, 59, 49, 51, 27, 57, 61, 64, 79, 73, 53, 77,\n",
       "       80, 62, 35, 68, 66, 75, 60, 67, 71, 70, 90, 81, 74, 78, 82, 83, 85,\n",
       "       76, 84, 89, 88, 87, 86])"
      ]
     },
     "execution_count": 16,
     "metadata": {},
     "output_type": "execute_result"
    }
   ],
   "source": [
    "data.age.unique()"
   ]
  },
  {
   "cell_type": "code",
   "execution_count": null,
   "metadata": {},
   "outputs": [],
   "source": []
  },
  {
   "cell_type": "markdown",
   "metadata": {},
   "source": [
    "### Categorize age in to age_groups"
   ]
  },
  {
   "cell_type": "code",
   "execution_count": 126,
   "metadata": {},
   "outputs": [],
   "source": [
    "data['age_group'] = pd.Series(data.age)\n",
    "data['age_group'][(data.age >= 17) & (data.age < 35)] = \"Young Adult\"\n",
    "data['age_group'][(data.age >= 35) & (data.age < 65)] = \"Middle Aged\"\n",
    "data['age_group'][data.age >= 65] = \"Senior\""
   ]
  },
  {
   "cell_type": "code",
   "execution_count": 19,
   "metadata": {},
   "outputs": [
    {
     "data": {
      "text/plain": [
       "array(['Young Adult', 'Middle Aged', 'Senior'], dtype=object)"
      ]
     },
     "execution_count": 19,
     "metadata": {},
     "output_type": "execute_result"
    }
   ],
   "source": [
    "data.age_group.unique()"
   ]
  },
  {
   "cell_type": "code",
   "execution_count": null,
   "metadata": {},
   "outputs": [],
   "source": []
  },
  {
   "cell_type": "code",
   "execution_count": null,
   "metadata": {},
   "outputs": [],
   "source": []
  },
  {
   "cell_type": "code",
   "execution_count": null,
   "metadata": {},
   "outputs": [],
   "source": []
  },
  {
   "cell_type": "markdown",
   "metadata": {},
   "source": [
    "### Categorize education in to education_groups"
   ]
  },
  {
   "cell_type": "code",
   "execution_count": 48,
   "metadata": {},
   "outputs": [
    {
     "data": {
      "text/plain": [
       "array(['11th', 'HS-grad', 'Assoc-acdm', 'Some-college', '10th',\n",
       "       'Prof-school', '7th-8th', 'Bachelors', 'Masters', 'Doctorate',\n",
       "       '5th-6th', 'Assoc-voc', '9th', '12th', '1st-4th', 'Preschool'],\n",
       "      dtype=object)"
      ]
     },
     "execution_count": 48,
     "metadata": {},
     "output_type": "execute_result"
    }
   ],
   "source": [
    "# Education level\n",
    "data.education.unique()"
   ]
  },
  {
   "cell_type": "code",
   "execution_count": 64,
   "metadata": {},
   "outputs": [],
   "source": [
    "#  Preschool < 1st-4th < 5th-6th < 7th-8th < 9th < 10th < 11th < 12th < HS-grad \n",
    "# < Prof-school < Assoc-acdm < Assoc-voc < Some-college \n",
    "# < Bachelors < Masters < Doctorate."
   ]
  },
  {
   "cell_type": "code",
   "execution_count": 125,
   "metadata": {},
   "outputs": [],
   "source": [
    "data['education_group'] = pd.Series(data.education)\n",
    "\n",
    "data['education_group'][\n",
    "    (data.education == 'Preschool') |\n",
    "    (data.education == '1st-4th') |\n",
    "    (data.education == '5th-6th') |\n",
    "    (data.education == '7th-8th') |\n",
    "    (data.education == '9th') |\n",
    "    (data.education == '10th') |\n",
    "    (data.education == '11th') |\n",
    "    (data.education == '12th') |\n",
    "    (data.education == 'HS-grad')\n",
    "] = \"School\"\n",
    "\n",
    "data['education_group'][\n",
    "    (data.education == 'Prof-school') |\n",
    "    (data.education == 'Assoc-acdm') |\n",
    "    (data.education == 'Assoc-voc') |\n",
    "    (data.education == 'Some-college')\n",
    "] = \"College\"\n",
    "\n",
    "data['education_group'][\n",
    "    (data.education == 'Bachelors')\n",
    "] = \"Undergraduate\"\n",
    "\n",
    "data['education_group'][\n",
    "    (data.education == 'Masters')\n",
    "] = \"Masters\"\n",
    "\n",
    "data['education_group'][\n",
    "    (data.education == 'Doctorate')\n",
    "] = \"Doctorate\""
   ]
  },
  {
   "cell_type": "code",
   "execution_count": 66,
   "metadata": {},
   "outputs": [
    {
     "data": {
      "text/plain": [
       "Index(['age', 'workclass', 'fnlwgt', 'education', 'educational-num',\n",
       "       'marital-status', 'occupation', 'relationship', 'race', 'gender',\n",
       "       'capital-gain', 'capital-loss', 'hours-per-week', 'native-country',\n",
       "       'income', 'age_group', 'education_group'],\n",
       "      dtype='object')"
      ]
     },
     "execution_count": 66,
     "metadata": {},
     "output_type": "execute_result"
    }
   ],
   "source": [
    "data.columns"
   ]
  },
  {
   "cell_type": "markdown",
   "metadata": {},
   "source": [
    "### Rename Class Members"
   ]
  },
  {
   "cell_type": "code",
   "execution_count": 70,
   "metadata": {},
   "outputs": [],
   "source": [
    "# Asian-Pac-Islander -> Asian\n",
    "# Amer-Indian-Eskimo -> Native American"
   ]
  },
  {
   "cell_type": "code",
   "execution_count": 127,
   "metadata": {},
   "outputs": [],
   "source": [
    "data['race'][\n",
    "    (data.race == 'Asian-Pac-Islander')\n",
    "] = \"Asian\"\n",
    "\n",
    "data['race'][\n",
    "    (data.race == 'Amer-Indian-Eskimo')\n",
    "] = \"Native American\""
   ]
  },
  {
   "cell_type": "code",
   "execution_count": 265,
   "metadata": {},
   "outputs": [],
   "source": [
    "data['is_white'] = pd.Series(data.race)\n",
    "data['is_white'][data.race == 'White'] = 'White'\n",
    "data['is_white'][data.race != 'White'] = 'None_White'"
   ]
  },
  {
   "cell_type": "markdown",
   "metadata": {},
   "source": [
    "### Give values for different groups to be used in the Income Formula"
   ]
  },
  {
   "cell_type": "code",
   "execution_count": 116,
   "metadata": {},
   "outputs": [],
   "source": [
    "data['age_group_value'] = pd.Series(data.age)\n",
    "data['age_group_value'][(data.age >= 17) & (data.age < 35)] = 2\n",
    "data['age_group_value'][(data.age >= 35) & (data.age < 65)] = 3\n",
    "data['age_group_value'][data.age >= 65] = 1"
   ]
  },
  {
   "cell_type": "code",
   "execution_count": 115,
   "metadata": {},
   "outputs": [],
   "source": [
    "data['race_value'] = pd.Series(data.race)\n",
    "data['race_value'][data.race == 'White'] = 6\n",
    "data['race_value'][data.race == 'Asian'] = 4\n",
    "data['race_value'][data.race == 'Other'] = 3\n",
    "data['race_value'][data.race == 'Native American'] = 2\n",
    "data['race_value'][data.race == 'Black'] = 1"
   ]
  },
  {
   "cell_type": "code",
   "execution_count": 118,
   "metadata": {},
   "outputs": [],
   "source": [
    "data['occupation_value'] = pd.Series(data.occupation)\n",
    "\n",
    "data['occupation_value'][data.occupation == 'Exec-managerial' ] = 20\n",
    "data['occupation_value'][data.occupation == 'Prof-specialty' ] = 17\n",
    "data['occupation_value'][data.occupation == 'Sales' ] = 15\n",
    "data['occupation_value'][data.occupation == 'Machine-op-inspct' ] = 14\n",
    "data['occupation_value'][data.occupation == 'Farming-fishing' ] = 8\n",
    "data['occupation_value'][data.occupation == 'Protective-serv' ] = 9\n",
    "data['occupation_value'][data.occupation == 'Craft-repair' ] = 9\n",
    "data['occupation_value'][data.occupation == 'Adm-clerical' ] = 10\n",
    "data['occupation_value'][data.occupation == 'Tech-support' ] = 12\n",
    "data['occupation_value'][data.occupation == 'Priv-house-serv' ] = 6\n",
    "data['occupation_value'][data.occupation == 'Transport-moving' ] = 5\n",
    "data['occupation_value'][data.occupation == 'Handlers-cleaners' ] = 4\n",
    "data['occupation_value'][data.occupation == 'Armed-Forces' ] = 7\n",
    "data['occupation_value'][data.occupation == 'Other-service' ] = 3\n",
    "data['occupation_value'][data.occupation == '?' ] = 3\n"
   ]
  },
  {
   "cell_type": "code",
   "execution_count": 201,
   "metadata": {},
   "outputs": [],
   "source": [
    "data['gender_value'] = pd.Series(data.gender)\n",
    "\n",
    "data['gender_value'][data.gender == 'Male' ] = 1\n",
    "data['gender_value'][data.gender == 'Female' ] = 0.75"
   ]
  },
  {
   "cell_type": "markdown",
   "metadata": {},
   "source": [
    "## Derive a formula for Income\n",
    "- Current 'income' is binary, Not usefull for Thresholding"
   ]
  },
  {
   "cell_type": "code",
   "execution_count": 202,
   "metadata": {},
   "outputs": [],
   "source": [
    "data['income'] = data['race_value'] * data['age_group_value'] * data['occupation_value'] * data['gender_value'] * 1000"
   ]
  },
  {
   "cell_type": "code",
   "execution_count": 203,
   "metadata": {},
   "outputs": [
    {
     "name": "stdout",
     "output_type": "stream",
     "text": [
      "Min: 2250.0 max: 360000\n"
     ]
    }
   ],
   "source": [
    "print(f\"Min: {data.income.min()} max: {data.income.max()}\")"
   ]
  },
  {
   "cell_type": "code",
   "execution_count": 245,
   "metadata": {},
   "outputs": [
    {
     "data": {
      "text/plain": [
       "Text(0.5, 1.0, 'Fig 1.1: Histogram - Dependent: Income | Protected: Gender')"
      ]
     },
     "execution_count": 245,
     "metadata": {},
     "output_type": "execute_result"
    },
    {
     "data": {
      "image/png": "[encoded data removed]",
      "text/plain": [
       "<Figure size 1008x432 with 1 Axes>"
      ]
     },
     "metadata": {
      "needs_background": "light"
     },
     "output_type": "display_data"
    }
   ],
   "source": [
    "fig, ax = plt.subplots(figsize=(14,6))\n",
    "g=sns.histplot(data=data, x=\"income\", hue='race', multiple=\"dodge\", shrink=.8, ax =ax)\n",
    "plt.grid()\n",
    "plt.title('Fig 1.1: Histogram - Dependent: Income | Protected: Gender', fontdict={'fontsize': 15, 'fontweight': 'heavy'})\n"
   ]
  },
  {
   "cell_type": "code",
   "execution_count": 246,
   "metadata": {},
   "outputs": [
    {
     "data": {
      "text/plain": [
       "Text(0.5, 1.0, 'Fig 1.1: Histogram - Dependent: Income | Protected: Race')"
      ]
     },
     "execution_count": 246,
     "metadata": {},
     "output_type": "execute_result"
    },
    {
     "data": {
      "image/png": "[encoded data removed]",
      "text/plain": [
       "<Figure size 1008x432 with 1 Axes>"
      ]
     },
     "metadata": {
      "needs_background": "light"
     },
     "output_type": "display_data"
    }
   ],
   "source": [
    "fig, ax = plt.subplots(figsize=(14,6))\n",
    "g=sns.histplot(data=data, x=\"income\", hue='gender', multiple=\"dodge\", shrink=.8, ax =ax)\n",
    "plt.grid()\n",
    "plt.title('Fig 1.1: Histogram - Dependent: Income | Protected: Race', fontdict={'fontsize': 15, 'fontweight': 'heavy'})\n"
   ]
  },
  {
   "cell_type": "code",
   "execution_count": 206,
   "metadata": {},
   "outputs": [
    {
     "data": {
      "text/html": [
       "<div>\n",
       "<style scoped>\n",
       "    .dataframe tbody tr th:only-of-type {\n",
       "        vertical-align: middle;\n",
       "    }\n",
       "\n",
       "    .dataframe tbody tr th {\n",
       "        vertical-align: top;\n",
       "    }\n",
       "\n",
       "    .dataframe thead th {\n",
       "        text-align: right;\n",
       "    }\n",
       "</style>\n",
       "<table border=\"1\" class=\"dataframe\">\n",
       "  <thead>\n",
       "    <tr style=\"text-align: right;\">\n",
       "      <th></th>\n",
       "      <th>age</th>\n",
       "      <th>workclass</th>\n",
       "      <th>fnlwgt</th>\n",
       "      <th>education</th>\n",
       "      <th>educational-num</th>\n",
       "      <th>marital-status</th>\n",
       "      <th>occupation</th>\n",
       "      <th>relationship</th>\n",
       "      <th>race</th>\n",
       "      <th>gender</th>\n",
       "      <th>...</th>\n",
       "      <th>native-country</th>\n",
       "      <th>income</th>\n",
       "      <th>age_group</th>\n",
       "      <th>education_group</th>\n",
       "      <th>age_group_value</th>\n",
       "      <th>race_value</th>\n",
       "      <th>occupation_value</th>\n",
       "      <th>default_income_outcome</th>\n",
       "      <th>default_education_outcome</th>\n",
       "      <th>gender_value</th>\n",
       "    </tr>\n",
       "  </thead>\n",
       "  <tbody>\n",
       "    <tr>\n",
       "      <th>0</th>\n",
       "      <td>25</td>\n",
       "      <td>Private</td>\n",
       "      <td>226802</td>\n",
       "      <td>11th</td>\n",
       "      <td>7</td>\n",
       "      <td>Never-married</td>\n",
       "      <td>Machine-op-inspct</td>\n",
       "      <td>Own-child</td>\n",
       "      <td>Black</td>\n",
       "      <td>Male</td>\n",
       "      <td>...</td>\n",
       "      <td>United-States</td>\n",
       "      <td>28000</td>\n",
       "      <td>Young Adult</td>\n",
       "      <td>School</td>\n",
       "      <td>2</td>\n",
       "      <td>1</td>\n",
       "      <td>14</td>\n",
       "      <td>Unfavorable</td>\n",
       "      <td>Unfavorable</td>\n",
       "      <td>1</td>\n",
       "    </tr>\n",
       "    <tr>\n",
       "      <th>1</th>\n",
       "      <td>38</td>\n",
       "      <td>Private</td>\n",
       "      <td>89814</td>\n",
       "      <td>HS-grad</td>\n",
       "      <td>9</td>\n",
       "      <td>Married-civ-spouse</td>\n",
       "      <td>Farming-fishing</td>\n",
       "      <td>Husband</td>\n",
       "      <td>White</td>\n",
       "      <td>Male</td>\n",
       "      <td>...</td>\n",
       "      <td>United-States</td>\n",
       "      <td>144000</td>\n",
       "      <td>Middle Aged</td>\n",
       "      <td>School</td>\n",
       "      <td>3</td>\n",
       "      <td>6</td>\n",
       "      <td>8</td>\n",
       "      <td>Unfavorable</td>\n",
       "      <td>Favorable</td>\n",
       "      <td>1</td>\n",
       "    </tr>\n",
       "    <tr>\n",
       "      <th>2</th>\n",
       "      <td>28</td>\n",
       "      <td>Local-gov</td>\n",
       "      <td>336951</td>\n",
       "      <td>Assoc-acdm</td>\n",
       "      <td>12</td>\n",
       "      <td>Married-civ-spouse</td>\n",
       "      <td>Protective-serv</td>\n",
       "      <td>Husband</td>\n",
       "      <td>White</td>\n",
       "      <td>Male</td>\n",
       "      <td>...</td>\n",
       "      <td>United-States</td>\n",
       "      <td>108000</td>\n",
       "      <td>Young Adult</td>\n",
       "      <td>College</td>\n",
       "      <td>2</td>\n",
       "      <td>6</td>\n",
       "      <td>9</td>\n",
       "      <td>Unfavorable</td>\n",
       "      <td>Favorable</td>\n",
       "      <td>1</td>\n",
       "    </tr>\n",
       "    <tr>\n",
       "      <th>3</th>\n",
       "      <td>44</td>\n",
       "      <td>Private</td>\n",
       "      <td>160323</td>\n",
       "      <td>Some-college</td>\n",
       "      <td>10</td>\n",
       "      <td>Married-civ-spouse</td>\n",
       "      <td>Machine-op-inspct</td>\n",
       "      <td>Husband</td>\n",
       "      <td>Black</td>\n",
       "      <td>Male</td>\n",
       "      <td>...</td>\n",
       "      <td>United-States</td>\n",
       "      <td>42000</td>\n",
       "      <td>Middle Aged</td>\n",
       "      <td>College</td>\n",
       "      <td>3</td>\n",
       "      <td>1</td>\n",
       "      <td>14</td>\n",
       "      <td>Unfavorable</td>\n",
       "      <td>Favorable</td>\n",
       "      <td>1</td>\n",
       "    </tr>\n",
       "    <tr>\n",
       "      <th>4</th>\n",
       "      <td>18</td>\n",
       "      <td>?</td>\n",
       "      <td>103497</td>\n",
       "      <td>Some-college</td>\n",
       "      <td>10</td>\n",
       "      <td>Never-married</td>\n",
       "      <td>?</td>\n",
       "      <td>Own-child</td>\n",
       "      <td>White</td>\n",
       "      <td>Female</td>\n",
       "      <td>...</td>\n",
       "      <td>United-States</td>\n",
       "      <td>27000.0</td>\n",
       "      <td>Young Adult</td>\n",
       "      <td>College</td>\n",
       "      <td>2</td>\n",
       "      <td>6</td>\n",
       "      <td>3</td>\n",
       "      <td>Unfavorable</td>\n",
       "      <td>Favorable</td>\n",
       "      <td>0.75</td>\n",
       "    </tr>\n",
       "  </tbody>\n",
       "</table>\n",
       "<p>5 rows × 23 columns</p>\n",
       "</div>"
      ],
      "text/plain": [
       "   age  workclass  fnlwgt     education  educational-num      marital-status  \\\n",
       "0   25    Private  226802          11th                7       Never-married   \n",
       "1   38    Private   89814       HS-grad                9  Married-civ-spouse   \n",
       "2   28  Local-gov  336951    Assoc-acdm               12  Married-civ-spouse   \n",
       "3   44    Private  160323  Some-college               10  Married-civ-spouse   \n",
       "4   18          ?  103497  Some-college               10       Never-married   \n",
       "\n",
       "          occupation relationship   race  gender  ...  native-country  \\\n",
       "0  Machine-op-inspct    Own-child  Black    Male  ...   United-States   \n",
       "1    Farming-fishing      Husband  White    Male  ...   United-States   \n",
       "2    Protective-serv      Husband  White    Male  ...   United-States   \n",
       "3  Machine-op-inspct      Husband  Black    Male  ...   United-States   \n",
       "4                  ?    Own-child  White  Female  ...   United-States   \n",
       "\n",
       "    income    age_group education_group age_group_value race_value  \\\n",
       "0    28000  Young Adult          School               2          1   \n",
       "1   144000  Middle Aged          School               3          6   \n",
       "2   108000  Young Adult         College               2          6   \n",
       "3    42000  Middle Aged         College               3          1   \n",
       "4  27000.0  Young Adult         College               2          6   \n",
       "\n",
       "  occupation_value  default_income_outcome default_education_outcome  \\\n",
       "0               14             Unfavorable               Unfavorable   \n",
       "1                8             Unfavorable                 Favorable   \n",
       "2                9             Unfavorable                 Favorable   \n",
       "3               14             Unfavorable                 Favorable   \n",
       "4                3             Unfavorable                 Favorable   \n",
       "\n",
       "  gender_value  \n",
       "0            1  \n",
       "1            1  \n",
       "2            1  \n",
       "3            1  \n",
       "4         0.75  \n",
       "\n",
       "[5 rows x 23 columns]"
      ]
     },
     "execution_count": 206,
     "metadata": {},
     "output_type": "execute_result"
    }
   ],
   "source": [
    "data.head()"
   ]
  },
  {
   "cell_type": "code",
   "execution_count": 73,
   "metadata": {},
   "outputs": [],
   "source": []
  },
  {
   "cell_type": "code",
   "execution_count": 74,
   "metadata": {},
   "outputs": [],
   "source": [
    "# data.corr()"
   ]
  },
  {
   "cell_type": "code",
   "execution_count": 75,
   "metadata": {},
   "outputs": [],
   "source": [
    "# data.columns"
   ]
  },
  {
   "cell_type": "code",
   "execution_count": 76,
   "metadata": {},
   "outputs": [],
   "source": [
    "# data[data.custody_status=='Sentenced']"
   ]
  },
  {
   "cell_type": "code",
   "execution_count": null,
   "metadata": {},
   "outputs": [],
   "source": []
  },
  {
   "cell_type": "markdown",
   "metadata": {},
   "source": [
    "# STEP 2"
   ]
  },
  {
   "cell_type": "code",
   "execution_count": null,
   "metadata": {},
   "outputs": [],
   "source": []
  },
  {
   "cell_type": "markdown",
   "metadata": {},
   "source": [
    "##  Step 2.3: Compute the frequency"
   ]
  },
  {
   "cell_type": "code",
   "execution_count": 77,
   "metadata": {
    "scrolled": true
   },
   "outputs": [
    {
     "data": {
      "text/plain": [
       "gender\n",
       "Female    16192\n",
       "Male      32650\n",
       "dtype: int64"
      ]
     },
     "execution_count": 77,
     "metadata": {},
     "output_type": "execute_result"
    }
   ],
   "source": [
    "data.value_counts([\"gender\"]).sort_index()"
   ]
  },
  {
   "cell_type": "code",
   "execution_count": 78,
   "metadata": {},
   "outputs": [
    {
     "data": {
      "text/plain": [
       "age_group  \n",
       "Middle Aged    25746\n",
       "Senior          2087\n",
       "Young Adult    21009\n",
       "dtype: int64"
      ]
     },
     "execution_count": 78,
     "metadata": {},
     "output_type": "execute_result"
    }
   ],
   "source": [
    "data.value_counts([\"age_group\"]).sort_index()"
   ]
  },
  {
   "cell_type": "code",
   "execution_count": 79,
   "metadata": {},
   "outputs": [
    {
     "data": {
      "text/plain": [
       "race           \n",
       "Asian               1519\n",
       "Black               4685\n",
       "Native American      470\n",
       "Other                406\n",
       "White              41762\n",
       "dtype: int64"
      ]
     },
     "execution_count": 79,
     "metadata": {},
     "output_type": "execute_result"
    }
   ],
   "source": [
    "data.value_counts([\"race\"]).sort_index()"
   ]
  },
  {
   "cell_type": "markdown",
   "metadata": {},
   "source": [
    "## Section 2.4: histograms"
   ]
  },
  {
   "cell_type": "markdown",
   "metadata": {},
   "source": [
    "###   Gender - Income"
   ]
  },
  {
   "cell_type": "code",
   "execution_count": 247,
   "metadata": {},
   "outputs": [
    {
     "data": {
      "text/plain": [
       "Text(0.5, 1.0, 'Fig 1.1: Histogram - Dependent: Income | Protected: Gender')"
      ]
     },
     "execution_count": 247,
     "metadata": {},
     "output_type": "execute_result"
    },
    {
     "data": {
      "image/png": "[encoded data removed]",
      "text/plain": [
       "<Figure size 1008x432 with 1 Axes>"
      ]
     },
     "metadata": {
      "needs_background": "light"
     },
     "output_type": "display_data"
    }
   ],
   "source": [
    "fig, ax = plt.subplots(figsize=(14,6))\n",
    "g=sns.histplot(data=data, x=\"income\", hue=\"gender\", multiple=\"dodge\", shrink=.8, ax =ax)\n",
    "plt.grid()\n",
    "plt.title('Fig 1.1: Histogram - Dependent: Income | Protected: Gender', fontdict={'fontsize': 15, 'fontweight': 'heavy'})\n"
   ]
  },
  {
   "cell_type": "markdown",
   "metadata": {},
   "source": [
    "###   Gender - Education level"
   ]
  },
  {
   "cell_type": "code",
   "execution_count": 248,
   "metadata": {},
   "outputs": [],
   "source": [
    "# data.value_counts('educational-num')"
   ]
  },
  {
   "cell_type": "code",
   "execution_count": 253,
   "metadata": {},
   "outputs": [
    {
     "data": {
      "text/plain": [
       "Text(0.5, 1.0, 'Fig 1.2: Histogram - Dependent: Education Level | Protected: Gender')"
      ]
     },
     "execution_count": 253,
     "metadata": {},
     "output_type": "execute_result"
    },
    {
     "data": {
      "image/png": "[encoded data removed]",
      "text/plain": [
       "<Figure size 1008x432 with 1 Axes>"
      ]
     },
     "metadata": {
      "needs_background": "light"
     },
     "output_type": "display_data"
    }
   ],
   "source": [
    "fig, ax = plt.subplots(figsize=(14,6))\n",
    "g=sns.histplot(data=data, x=\"educational-num\", hue=\"gender\", multiple=\"dodge\", shrink=4, ax =ax)\n",
    "plt.grid()\n",
    "plt.title('Fig 1.2: Histogram - Dependent: Education Level | Protected: Gender', fontdict={'fontsize': 15, 'fontweight': 'heavy'})\n"
   ]
  },
  {
   "cell_type": "code",
   "execution_count": null,
   "metadata": {},
   "outputs": [],
   "source": []
  },
  {
   "cell_type": "code",
   "execution_count": null,
   "metadata": {},
   "outputs": [],
   "source": []
  },
  {
   "cell_type": "code",
   "execution_count": 82,
   "metadata": {},
   "outputs": [],
   "source": [
    "# data.value_counts([\"race\", \"manner_of_death\"]).sort_index()"
   ]
  },
  {
   "cell_type": "markdown",
   "metadata": {},
   "source": [
    "### Race - Income"
   ]
  },
  {
   "cell_type": "code",
   "execution_count": 256,
   "metadata": {},
   "outputs": [
    {
     "data": {
      "text/plain": [
       "Text(0.5, 1.0, 'Fig 1.3: Histogram - Dependent: Income | Protected: Race')"
      ]
     },
     "execution_count": 256,
     "metadata": {},
     "output_type": "execute_result"
    },
    {
     "data": {
      "image/png": "[encoded data removed]",
      "text/plain": [
       "<Figure size 1008x432 with 1 Axes>"
      ]
     },
     "metadata": {
      "needs_background": "light"
     },
     "output_type": "display_data"
    }
   ],
   "source": [
    "fig, ax = plt.subplots(figsize=(14,6))\n",
    "g=sns.histplot(data=data, x=\"income\", hue=\"race\", multiple=\"dodge\", shrink=1, ax =ax)\n",
    "plt.grid()\n",
    "plt.title('Fig 1.3: Histogram - Dependent: Income | Protected: Race', fontdict={'fontsize': 15, 'fontweight': 'heavy'})\n"
   ]
  },
  {
   "cell_type": "markdown",
   "metadata": {},
   "source": [
    "### Race - Education Level"
   ]
  },
  {
   "cell_type": "code",
   "execution_count": 260,
   "metadata": {},
   "outputs": [
    {
     "data": {
      "text/plain": [
       "Text(0.5, 1.0, 'Fig 1.4: Histogram - Dependent: Education Level | Protected: Race')"
      ]
     },
     "execution_count": 260,
     "metadata": {},
     "output_type": "execute_result"
    },
    {
     "data": {
      "image/png": "[encoded data removed]",
      "text/plain": [
       "<Figure size 1008x432 with 1 Axes>"
      ]
     },
     "metadata": {
      "needs_background": "light"
     },
     "output_type": "display_data"
    }
   ],
   "source": [
    "fig, ax = plt.subplots(figsize=(14,6))\n",
    "g=sns.histplot(data=data, x=\"educational-num\", hue=\"race\", multiple=\"dodge\", shrink=1, ax =ax)\n",
    "plt.grid()\n",
    "plt.title('Fig 1.4: Histogram - Dependent: Education Level | Protected: Race', fontdict={'fontsize': 15, 'fontweight': 'heavy'})"
   ]
  },
  {
   "cell_type": "code",
   "execution_count": null,
   "metadata": {},
   "outputs": [],
   "source": []
  },
  {
   "cell_type": "markdown",
   "metadata": {},
   "source": [
    "### Age - Income"
   ]
  },
  {
   "cell_type": "code",
   "execution_count": 257,
   "metadata": {},
   "outputs": [],
   "source": [
    "# fig, ax = plt.subplots(figsize=(14,6))\n",
    "# g=sns.histplot(data=data, x=\"income\", hue=\"age_group\", multiple=\"dodge\", shrink=.8, ax =ax)\n",
    "# plt.grid()\n",
    "# plt.title('Fig 1.5: Histogram - Dependent: Income | Protected: Age', fontdict={'fontsize': 15, 'fontweight': 'heavy'})\n"
   ]
  },
  {
   "cell_type": "markdown",
   "metadata": {},
   "source": [
    "### Age  - Education Level"
   ]
  },
  {
   "cell_type": "code",
   "execution_count": 258,
   "metadata": {},
   "outputs": [],
   "source": [
    "# fig, ax = plt.subplots(figsize=(14,6))\n",
    "# g=sns.histplot(data=data, x=\"education_group\", hue=\"age_group\", multiple=\"dodge\", shrink=.8, ax =ax)\n",
    "# plt.grid()\n",
    "# plt.title('Fig 1.6: Histogram - Dependent: Education Level | Protected: Age', fontdict={'fontsize': 15, 'fontweight': 'heavy'})\n"
   ]
  },
  {
   "cell_type": "code",
   "execution_count": null,
   "metadata": {},
   "outputs": [],
   "source": []
  },
  {
   "cell_type": "code",
   "execution_count": null,
   "metadata": {},
   "outputs": [],
   "source": []
  },
  {
   "cell_type": "markdown",
   "metadata": {},
   "source": [
    "# STEP 3"
   ]
  },
  {
   "cell_type": "code",
   "execution_count": 318,
   "metadata": {},
   "outputs": [],
   "source": [
    "THRSHOLD_INCOME = 150000\n",
    "THRSHOLD_EDUCATION = 13"
   ]
  },
  {
   "cell_type": "code",
   "execution_count": 319,
   "metadata": {},
   "outputs": [],
   "source": [
    "def SPD(unprivileged_favorable, privileged_favorable, total_unprivileged, total_privileged):\n",
    "    val = (unprivileged_favorable/total_unprivileged) - (privileged_favorable/total_privileged)\n",
    "    print(f\"SPD={val}\")\n",
    "    \n",
    "def DI(unprivileged_favorable, privileged_favorable, total_unprivileged, total_privileged):\n",
    "    val = (unprivileged_favorable/total_unprivileged) / (privileged_favorable/total_privileged)\n",
    "    print(f\"DI={val}\")"
   ]
  },
  {
   "cell_type": "code",
   "execution_count": 320,
   "metadata": {},
   "outputs": [],
   "source": [
    "data['default_income_outcome'] = pd.Series(data.income)\n",
    "data['default_income_outcome'][data.income >= THRSHOLD_INCOME] = 'Favorable'\n",
    "data['default_income_outcome'][data.income < THRSHOLD_INCOME] = 'Unfavorable'\n",
    "\n",
    "data['default_education_outcome'] = pd.Series(data['educational-num'])\n",
    "data['default_education_outcome'][data['educational-num'] >= THRSHOLD_EDUCATION] = 'Favorable'\n",
    "data['default_education_outcome'][data['educational-num'] < THRSHOLD_EDUCATION] = 'Unfavorable'"
   ]
  },
  {
   "cell_type": "code",
   "execution_count": 460,
   "metadata": {},
   "outputs": [],
   "source": [
    "THRSHOLD_EDUCATION = 9"
   ]
  },
  {
   "cell_type": "code",
   "execution_count": 322,
   "metadata": {},
   "outputs": [],
   "source": [
    "# data.head()"
   ]
  },
  {
   "cell_type": "code",
   "execution_count": 323,
   "metadata": {},
   "outputs": [
    {
     "name": "stdout",
     "output_type": "stream",
     "text": [
      "gender  default_income_outcome\n",
      "Female  Favorable                  4457\n",
      "        Unfavorable               11735\n",
      "Male    Favorable                 17184\n",
      "        Unfavorable               15466\n",
      "dtype: int64\n",
      "SPD=-0.251049954148987\n",
      "DI=0.5229992433097983\n"
     ]
    }
   ],
   "source": [
    "# Sex/Income\n",
    "vc = data.value_counts(['gender', 'default_income_outcome']).sort_index()\n",
    "print(vc)\n",
    "\n",
    "SPD(\n",
    "    unprivileged_favorable=vc.Female.Favorable,\n",
    "    privileged_favorable=vc.Male.Favorable,\n",
    "    total_unprivileged=(vc.Female.Favorable + vc.Female.Unfavorable),\n",
    "    total_privileged=(vc.Male.Favorable + vc.Male.Unfavorable),\n",
    ")\n",
    "\n",
    "DI(\n",
    "    unprivileged_favorable=vc.Female.Favorable,\n",
    "    privileged_favorable=vc.Male.Favorable,\n",
    "    total_unprivileged=(vc.Female.Favorable + vc.Female.Unfavorable),\n",
    "    total_privileged=(vc.Male.Favorable + vc.Male.Unfavorable),\n",
    ")"
   ]
  },
  {
   "cell_type": "code",
   "execution_count": null,
   "metadata": {},
   "outputs": [],
   "source": []
  },
  {
   "cell_type": "code",
   "execution_count": null,
   "metadata": {},
   "outputs": [],
   "source": []
  },
  {
   "cell_type": "code",
   "execution_count": 434,
   "metadata": {},
   "outputs": [
    {
     "name": "stdout",
     "output_type": "stream",
     "text": [
      "gender  default_education_outcome\n",
      "Female  Favorable                     3567\n",
      "        Unfavorable                  12625\n",
      "Male    Favorable                     8543\n",
      "        Unfavorable                  24107\n",
      "dtype: int64\n",
      "SPD=-0.04135993272158295\n",
      "DI=0.8419288536392738\n"
     ]
    }
   ],
   "source": [
    "# Sex/Education\n",
    "vc = data.value_counts(['gender', 'default_education_outcome']).sort_index()\n",
    "print(vc)\n",
    "\n",
    "SPD(\n",
    "    unprivileged_favorable=vc.Female.Favorable,\n",
    "    privileged_favorable=vc.Male.Favorable,\n",
    "    total_unprivileged=(vc.Female.Favorable + vc.Female.Unfavorable),\n",
    "    total_privileged=(vc.Male.Favorable + vc.Male.Unfavorable),\n",
    ")\n",
    "\n",
    "DI(\n",
    "    unprivileged_favorable=vc.Female.Favorable,\n",
    "    privileged_favorable=vc.Male.Favorable,\n",
    "    total_unprivileged=(vc.Female.Favorable + vc.Female.Unfavorable),\n",
    "    total_privileged=(vc.Male.Favorable + vc.Male.Unfavorable),\n",
    ")"
   ]
  },
  {
   "cell_type": "code",
   "execution_count": 325,
   "metadata": {},
   "outputs": [
    {
     "name": "stdout",
     "output_type": "stream",
     "text": [
      "SPD=-0.04135993272158295\n",
      "DI=0.8419288536392738\n"
     ]
    }
   ],
   "source": []
  },
  {
   "cell_type": "code",
   "execution_count": null,
   "metadata": {},
   "outputs": [],
   "source": []
  },
  {
   "cell_type": "code",
   "execution_count": null,
   "metadata": {},
   "outputs": [],
   "source": []
  },
  {
   "cell_type": "code",
   "execution_count": null,
   "metadata": {},
   "outputs": [],
   "source": []
  },
  {
   "cell_type": "code",
   "execution_count": 417,
   "metadata": {},
   "outputs": [
    {
     "name": "stdout",
     "output_type": "stream",
     "text": [
      "is_white    default_income_outcome\n",
      "None_White  Favorable                   427\n",
      "            Unfavorable                6653\n",
      "White       Favorable                 21214\n",
      "            Unfavorable               20548\n",
      "dtype: int64\n",
      "SPD=-0.4476630215828895\n",
      "DI=0.11872805188344336\n"
     ]
    }
   ],
   "source": [
    "# race/Income\n",
    "vc = data.value_counts(['is_white', 'default_income_outcome']).sort_index()\n",
    "print(vc)\n",
    "\n",
    "SPD(\n",
    "    unprivileged_favorable=vc.None_White.Favorable,\n",
    "    privileged_favorable=vc.White.Favorable,\n",
    "    total_unprivileged=(vc.None_White.Favorable + vc.None_White.Unfavorable),\n",
    "    total_privileged=(vc.White.Favorable + vc.White.Unfavorable),\n",
    ")\n",
    "\n",
    "DI(\n",
    "    unprivileged_favorable=vc.None_White.Favorable,\n",
    "    privileged_favorable=vc.White.Favorable,\n",
    "    total_unprivileged=(vc.None_White.Favorable + vc.None_White.Unfavorable),\n",
    "    total_privileged=(vc.White.Favorable + vc.White.Unfavorable),\n",
    ")"
   ]
  },
  {
   "cell_type": "code",
   "execution_count": 328,
   "metadata": {},
   "outputs": [
    {
     "name": "stdout",
     "output_type": "stream",
     "text": [
      "SPD=-0.4476630215828895\n",
      "DI=0.11872805188344336\n"
     ]
    }
   ],
   "source": []
  },
  {
   "cell_type": "code",
   "execution_count": null,
   "metadata": {},
   "outputs": [],
   "source": []
  },
  {
   "cell_type": "code",
   "execution_count": 466,
   "metadata": {},
   "outputs": [
    {
     "name": "stdout",
     "output_type": "stream",
     "text": [
      "is_white    default_education_outcome\n",
      "None_White  Favorable                     1454\n",
      "            Unfavorable                   5626\n",
      "White       Favorable                    10656\n",
      "            Unfavorable                  31106\n",
      "dtype: int64\n",
      "SPD=-0.0497929618389058\n",
      "DI=0.8048560742946336\n"
     ]
    }
   ],
   "source": [
    "# race/Education\n",
    "vc = data.value_counts(['is_white', 'default_education_outcome']).sort_index()\n",
    "print(vc)\n",
    "\n",
    "SPD(\n",
    "    unprivileged_favorable=vc.None_White.Favorable,\n",
    "    privileged_favorable=vc.White.Favorable,\n",
    "    total_unprivileged=(vc.None_White.Favorable + vc.None_White.Unfavorable),\n",
    "    total_privileged=(vc.White.Favorable + vc.White.Unfavorable),\n",
    ")\n",
    "\n",
    "DI(\n",
    "    unprivileged_favorable=vc.None_White.Favorable,\n",
    "    privileged_favorable=vc.White.Favorable,\n",
    "    total_unprivileged=(vc.None_White.Favorable + vc.None_White.Unfavorable),\n",
    "    total_privileged=(vc.White.Favorable + vc.White.Unfavorable),\n",
    ")"
   ]
  },
  {
   "cell_type": "code",
   "execution_count": 330,
   "metadata": {},
   "outputs": [
    {
     "name": "stdout",
     "output_type": "stream",
     "text": [
      "SPD=-0.0497929618389058\n",
      "DI=0.8048560742946336\n"
     ]
    }
   ],
   "source": []
  },
  {
   "cell_type": "code",
   "execution_count": null,
   "metadata": {},
   "outputs": [],
   "source": []
  },
  {
   "cell_type": "markdown",
   "metadata": {},
   "source": [
    "## Step 3.3 - Select a pre-processing bias mitigation algorithm"
   ]
  },
  {
   "cell_type": "code",
   "execution_count": 271,
   "metadata": {},
   "outputs": [],
   "source": [
    "from __future__ import absolute_import\n",
    "from __future__ import division\n",
    "from __future__ import print_function\n",
    "from __future__ import unicode_literals\n",
    "\n",
    "from matplotlib import pyplot as plt\n",
    "\n",
    "import sys\n",
    "sys.path.append(\"../\")\n",
    "import warnings\n",
    "\n",
    "import numpy as np\n",
    "from tqdm import tqdm\n",
    "\n",
    "from sklearn.linear_model import LogisticRegression\n",
    "from sklearn.svm import SVC as SVM\n",
    "from sklearn.preprocessing import MinMaxScaler\n",
    "\n",
    "from aif360.algorithms.preprocessing import DisparateImpactRemover\n",
    "from aif360.datasets import AdultDataset, StandardDataset\n",
    "from aif360.metrics import BinaryLabelDatasetMetric"
   ]
  },
  {
   "cell_type": "code",
   "execution_count": 370,
   "metadata": {},
   "outputs": [
    {
     "data": {
      "text/plain": [
       "Index(['age', 'workclass', 'fnlwgt', 'education', 'educational-num',\n",
       "       'marital-status', 'occupation', 'relationship', 'race', 'gender',\n",
       "       'capital-gain', 'capital-loss', 'hours-per-week', 'native-country',\n",
       "       'income', 'age_group', 'education_group', 'age_group_value',\n",
       "       'race_value', 'occupation_value', 'default_income_outcome',\n",
       "       'default_education_outcome', 'gender_value', 'is_white'],\n",
       "      dtype='object')"
      ]
     },
     "execution_count": 370,
     "metadata": {},
     "output_type": "execute_result"
    }
   ],
   "source": [
    "data.columns"
   ]
  },
  {
   "cell_type": "code",
   "execution_count": 371,
   "metadata": {},
   "outputs": [
    {
     "data": {
      "text/plain": [
       "array(['Unfavorable', 'Favorable'], dtype=object)"
      ]
     },
     "execution_count": 371,
     "metadata": {},
     "output_type": "execute_result"
    }
   ],
   "source": [
    "data.default_income_outcome.unique()"
   ]
  },
  {
   "cell_type": "code",
   "execution_count": 490,
   "metadata": {},
   "outputs": [],
   "source": [
    "def mitigate(protected, privileged_classes, label_name, features_to_keep, repair_level=0.8):\n",
    "    ad = StandardDataset(\n",
    "        df=data, \n",
    "        protected_attribute_names=[protected],\n",
    "        privileged_classes=[[privileged_classes]], \n",
    "        categorical_features=[],\n",
    "        label_name=label_name,\n",
    "        favorable_classes=['Favorable'],\n",
    "        features_to_keep=features_to_keep\n",
    "    )\n",
    "    \n",
    "    di = DisparateImpactRemover(repair_level)\n",
    "    transformed_ad = di.fit_transform(ad)\n",
    "    \n",
    "    transformed_ad_data = transformed_ad.convert_to_dataframe()[0]\n",
    "\n",
    "    if label_name == 'default_income_outcome':\n",
    "        transformed_ad_data['default_income_outcome'][transformed_ad_data.default_income_outcome == 1.0] = 'Favorable'\n",
    "        transformed_ad_data['default_income_outcome'][transformed_ad_data.default_income_outcome == 0.0] = 'Unfavorable'\n",
    "\n",
    "    if label_name == 'default_education_outcome':\n",
    "        transformed_ad_data['default_education_outcome'][transformed_ad_data.default_education_outcome == 1.0] = 'Favorable'\n",
    "        transformed_ad_data['default_education_outcome'][transformed_ad_data.default_education_outcome == 0.0] = 'Unfavorable'\n",
    "        \n",
    "    if protected == 'gender':\n",
    "        transformed_ad_data['gender'][transformed_ad_data.gender == 1.0] = 'Male'\n",
    "        transformed_ad_data['gender'][transformed_ad_data.gender == 0.0] = 'Female'\n",
    "    if protected == 'race':\n",
    "        transformed_ad_data['is_white'] = pd.Series(transformed_ad_data.race)\n",
    "        transformed_ad_data['is_white'][transformed_ad_data.race == 1.0] = 'White'\n",
    "        transformed_ad_data['is_white'][transformed_ad_data.race != 1.0] = 'None_White'\n",
    "    \n",
    "    # Run income formula again\n",
    "    if label_name == 'default_income_outcome':\n",
    "        transformed_ad_data['income'] = transformed_ad_data['race_value'] * transformed_ad_data['age_group_value'] * transformed_ad_data['occupation_value'] * transformed_ad_data['gender_value'] * 1000\n",
    "\n",
    "        transformed_ad_data['default_income_outcome'] = pd.Series(transformed_ad_data.income)\n",
    "        transformed_ad_data['default_income_outcome'][transformed_ad_data.income >= THRSHOLD_INCOME] = 'Favorable'\n",
    "        transformed_ad_data['default_income_outcome'][transformed_ad_data.income < THRSHOLD_INCOME] = 'Unfavorable'\n",
    "\n",
    "    if label_name == 'default_education_outcome':        \n",
    "        transformed_ad_data['default_education_outcome'] = pd.Series(transformed_ad_data['educational-num'])\n",
    "        transformed_ad_data['default_education_outcome'][transformed_ad_data['educational-num'] >= THRSHOLD_EDUCATION] = 'Favorable'\n",
    "        transformed_ad_data['default_education_outcome'][transformed_ad_data['educational-num'] < THRSHOLD_EDUCATION] = 'Unfavorable'\n",
    "\n",
    "    if protected == 'gender':\n",
    "        # Sex/Income\n",
    "        if label_name == 'default_income_outcome':\n",
    "            print(\"=== Sex/Income Value ===\")\n",
    "            vc = transformed_ad_data.value_counts(['gender', 'default_income_outcome']).sort_index()\n",
    "            \n",
    "        # Sex/Education\n",
    "        if label_name == 'default_education_outcome':\n",
    "            print(\"=== Sex/Education Value ===\")\n",
    "            vc = transformed_ad_data.value_counts(['gender', 'default_education_outcome']).sort_index()\n",
    "        \n",
    "        print(vc)\n",
    "\n",
    "        SPD(\n",
    "            unprivileged_favorable=vc.Female.Favorable,\n",
    "            privileged_favorable=vc.Male.Favorable,\n",
    "            total_unprivileged=(vc.Female.Favorable + vc.Female.Unfavorable),\n",
    "            total_privileged=(vc.Male.Favorable + vc.Male.Unfavorable),\n",
    "        )\n",
    "\n",
    "        DI(\n",
    "            unprivileged_favorable=vc.Female.Favorable,\n",
    "            privileged_favorable=vc.Male.Favorable,\n",
    "            total_unprivileged=(vc.Female.Favorable + vc.Female.Unfavorable),\n",
    "            total_privileged=(vc.Male.Favorable + vc.Male.Unfavorable),\n",
    "        )\n",
    "\n",
    "    if protected == 'race':\n",
    "        # Race/Income\n",
    "        if label_name == 'default_income_outcome':\n",
    "            print(\"==== race/Income Value ====\")\n",
    "            vc = transformed_ad_data.value_counts(['is_white', 'default_income_outcome']).sort_index()\n",
    "            \n",
    "        # Race/Education\n",
    "        if label_name == 'default_education_outcome':\n",
    "            print(\"==== race/Education Value ====\")\n",
    "            vc = transformed_ad_data.value_counts(['is_white', 'default_education_outcome']).sort_index()\n",
    "        \n",
    "        print(vc)\n",
    "\n",
    "        SPD(\n",
    "            unprivileged_favorable=vc.None_White.Favorable,\n",
    "            privileged_favorable=vc.White.Favorable,\n",
    "            total_unprivileged=(vc.None_White.Favorable + vc.None_White.Unfavorable),\n",
    "            total_privileged=(vc.White.Favorable + vc.White.Unfavorable),\n",
    "        )\n",
    "\n",
    "        DI(\n",
    "            unprivileged_favorable=vc.None_White.Favorable,\n",
    "            privileged_favorable=vc.White.Favorable,\n",
    "            total_unprivileged=(vc.None_White.Favorable + vc.None_White.Unfavorable),\n",
    "            total_privileged=(vc.White.Favorable + vc.White.Unfavorable),\n",
    "        )\n",
    "        \n",
    "    return transformed_ad_data\n",
    "        "
   ]
  },
  {
   "cell_type": "code",
   "execution_count": 492,
   "metadata": {},
   "outputs": [
    {
     "name": "stdout",
     "output_type": "stream",
     "text": [
      "=== Sex/Income Value ===\n",
      "gender  default_income_outcome\n",
      "Female  Favorable                  4457\n",
      "        Unfavorable               11735\n",
      "Male    Favorable                 10684\n",
      "        Unfavorable               21966\n",
      "dtype: int64\n",
      "SPD=-0.05196879028987522\n",
      "DI=0.8411848555817647\n"
     ]
    }
   ],
   "source": [
    "gender_income_df = mitigate(\n",
    "    protected='gender',\n",
    "    privileged_classes='Male',\n",
    "    label_name='default_income_outcome',\n",
    "    features_to_keep=['age_group_value', 'race_value', 'occupation_value', 'gender_value'],\n",
    ")"
   ]
  },
  {
   "cell_type": "code",
   "execution_count": 493,
   "metadata": {},
   "outputs": [
    {
     "name": "stdout",
     "output_type": "stream",
     "text": [
      "==== race/Income Value ====\n",
      "is_white    default_income_outcome\n",
      "None_White  Favorable                   239\n",
      "            Unfavorable                6841\n",
      "White       Favorable                  5152\n",
      "            Unfavorable               36610\n",
      "dtype: int64\n",
      "SPD=-0.08960867704184351\n",
      "DI=0.27363401191353476\n"
     ]
    }
   ],
   "source": [
    "race_income_df = mitigate(\n",
    "    protected='race',\n",
    "    privileged_classes='White',\n",
    "    label_name='default_income_outcome',\n",
    "    features_to_keep=['age_group_value', 'race_value', 'occupation_value', 'gender_value'],\n",
    "    repair_level=0.5\n",
    ")"
   ]
  },
  {
   "cell_type": "code",
   "execution_count": null,
   "metadata": {},
   "outputs": [],
   "source": []
  },
  {
   "cell_type": "code",
   "execution_count": 494,
   "metadata": {},
   "outputs": [
    {
     "name": "stdout",
     "output_type": "stream",
     "text": [
      "=== Sex/Education Value ===\n",
      "gender  default_education_outcome\n",
      "Female  Favorable                    14203\n",
      "        Unfavorable                   1989\n",
      "Male    Favorable                    28231\n",
      "        Unfavorable                   4419\n",
      "dtype: int64\n",
      "SPD=0.012506124817655229\n",
      "DI=1.0144637092308613\n"
     ]
    }
   ],
   "source": [
    "gender_education_df = mitigate(\n",
    "    protected='gender',\n",
    "    privileged_classes='Male',\n",
    "    label_name='default_education_outcome',\n",
    "    features_to_keep=['age_group_value', 'race_value', 'occupation_value', 'gender_value', 'educational-num'],\n",
    "    repair_level=0.8\n",
    ")"
   ]
  },
  {
   "cell_type": "code",
   "execution_count": 495,
   "metadata": {},
   "outputs": [
    {
     "name": "stdout",
     "output_type": "stream",
     "text": [
      "==== race/Education Value ====\n",
      "is_white    default_education_outcome\n",
      "None_White  Favorable                     5931\n",
      "            Unfavorable                   1149\n",
      "White       Favorable                    36503\n",
      "            Unfavorable                   5259\n",
      "dtype: int64\n",
      "SPD=-0.036360258575836135\n",
      "DI=0.9584013062311572\n"
     ]
    }
   ],
   "source": [
    "race_education_df = mitigate(\n",
    "    protected='race',\n",
    "    privileged_classes='White',\n",
    "    label_name='default_education_outcome',\n",
    "    features_to_keep=['age_group_value', 'race_value', 'occupation_value', 'gender_value', 'educational-num'],\n",
    ")"
   ]
  },
  {
   "cell_type": "code",
   "execution_count": 391,
   "metadata": {},
   "outputs": [],
   "source": []
  },
  {
   "cell_type": "code",
   "execution_count": 355,
   "metadata": {},
   "outputs": [],
   "source": []
  },
  {
   "cell_type": "code",
   "execution_count": 455,
   "metadata": {},
   "outputs": [],
   "source": []
  },
  {
   "cell_type": "markdown",
   "metadata": {},
   "source": [
    "# Step 4"
   ]
  },
  {
   "cell_type": "code",
   "execution_count": 467,
   "metadata": {},
   "outputs": [],
   "source": [
    "import sklearn\n",
    "from sklearn.model_selection import train_test_split\n",
    "from sklearn.linear_model import LogisticRegression"
   ]
  },
  {
   "cell_type": "code",
   "execution_count": 470,
   "metadata": {},
   "outputs": [
    {
     "data": {
      "text/plain": [
       "Index(['age', 'workclass', 'fnlwgt', 'education', 'educational-num',\n",
       "       'marital-status', 'occupation', 'relationship', 'race', 'gender',\n",
       "       'capital-gain', 'capital-loss', 'hours-per-week', 'native-country',\n",
       "       'income', 'age_group', 'education_group', 'age_group_value',\n",
       "       'race_value', 'occupation_value', 'default_income_outcome',\n",
       "       'default_education_outcome', 'gender_value', 'is_white'],\n",
       "      dtype='object')"
      ]
     },
     "execution_count": 470,
     "metadata": {},
     "output_type": "execute_result"
    }
   ],
   "source": [
    "data.columns"
   ]
  },
  {
   "cell_type": "code",
   "execution_count": null,
   "metadata": {},
   "outputs": [],
   "source": []
  },
  {
   "cell_type": "code",
   "execution_count": 577,
   "metadata": {},
   "outputs": [],
   "source": [
    "x = data[['gender', 'age_group_value', 'race_value', 'occupation_value','gender_value']]\n",
    "y = data[['default_income_outcome']]\n",
    "\n",
    "x['gender'][x['gender'] == 'Male'] = 1\n",
    "x['gender'][x['gender'] == 'Female'] = 0\n",
    "\n",
    "y['default_income_outcome'][y['default_income_outcome'] == 'Favorable'] = 1\n",
    "y['default_income_outcome'][y['default_income_outcome'] == 'Unfavorable'] = 0\n",
    "\n",
    "x = x.astype(float)\n",
    "y = y.astype(int)\n",
    "\n",
    "x_train, x_test, y_train, y_test = train_test_split(x, y, test_size=0.3, random_state=0)"
   ]
  },
  {
   "cell_type": "code",
   "execution_count": null,
   "metadata": {},
   "outputs": [],
   "source": []
  },
  {
   "cell_type": "code",
   "execution_count": 583,
   "metadata": {},
   "outputs": [],
   "source": [
    "x = gender_income_df[['gender', 'age_group_value', 'race_value', 'occupation_value','gender_value']]\n",
    "y = gender_income_df[['default_income_outcome']]\n",
    "\n",
    "x['gender'][x['gender'] == 'Male'] = 1\n",
    "x['gender'][x['gender'] == 'Female'] = 0\n",
    "\n",
    "y['default_income_outcome'][y['default_income_outcome'] == 'Favorable'] = 1\n",
    "y['default_income_outcome'][y['default_income_outcome'] == 'Unfavorable'] = 0\n",
    "\n",
    "x = x.astype(float)\n",
    "y = y.astype(int)\n",
    "\n",
    "x_trans_train, x_trans_test, y_trans_train, y_trans_test = train_test_split(x, y, test_size=0.3, random_state=0)"
   ]
  },
  {
   "cell_type": "code",
   "execution_count": null,
   "metadata": {},
   "outputs": [],
   "source": []
  },
  {
   "cell_type": "code",
   "execution_count": 584,
   "metadata": {},
   "outputs": [],
   "source": [
    "clf = LogisticRegression(random_state=0).fit(\n",
    "    x_train[['age_group_value', 'race_value', 'occupation_value','gender_value']],\n",
    "    y_train\n",
    ")\n",
    "\n",
    "clf_transf = LogisticRegression(random_state=0).fit(\n",
    "    x_trans_train[['age_group_value', 'race_value', 'occupation_value','gender_value']], \n",
    "    y_trans_train\n",
    ")"
   ]
  },
  {
   "cell_type": "code",
   "execution_count": null,
   "metadata": {},
   "outputs": [],
   "source": []
  },
  {
   "cell_type": "code",
   "execution_count": 585,
   "metadata": {},
   "outputs": [],
   "source": [
    "y_test_preds = clf.predict(x_test[['age_group_value', 'race_value', 'occupation_value','gender_value']])\n",
    "\n",
    "y_test_transf_preds = clf_transf.predict(x_trans_test[['age_group_value', 'race_value', 'occupation_value','gender_value']])\n"
   ]
  },
  {
   "cell_type": "code",
   "execution_count": null,
   "metadata": {},
   "outputs": [],
   "source": []
  },
  {
   "cell_type": "markdown",
   "metadata": {},
   "source": [
    "## 4.5: Sex/Income - Without Transformation - Predictions "
   ]
  },
  {
   "cell_type": "code",
   "execution_count": 589,
   "metadata": {},
   "outputs": [
    {
     "name": "stdout",
     "output_type": "stream",
     "text": [
      "gender  default_income_outcome\n",
      "Female  Favorable                 1344\n",
      "        Unfavorable               3573\n",
      "Male    Favorable                 5195\n",
      "        Unfavorable               4541\n",
      "dtype: int64\n",
      "SPD=-0.2602492877242923\n",
      "DI=0.5122642800223851\n"
     ]
    }
   ],
   "source": [
    "x_test['default_income_outcome'] = y_test_preds\n",
    "\n",
    "x_test['gender'][x_test['gender'] == 1.0] = 'Male'\n",
    "x_test['gender'][x_test['gender'] == 0.0] = 'Female'\n",
    "\n",
    "\n",
    "x_test['default_income_outcome'][x_test['default_income_outcome'] == 1] = 'Favorable'\n",
    "x_test['default_income_outcome'][x_test['default_income_outcome'] == 0] = 'Unfavorable'\n",
    "\n",
    "\n",
    "# Sex/Income\n",
    "vc = x_test.value_counts(['gender', 'default_income_outcome']).sort_index()\n",
    "print(vc)\n",
    "\n",
    "SPD(\n",
    "    unprivileged_favorable=vc.Female.Favorable,\n",
    "    privileged_favorable=vc.Male.Favorable,\n",
    "    total_unprivileged=(vc.Female.Favorable + vc.Female.Unfavorable),\n",
    "    total_privileged=(vc.Male.Favorable + vc.Male.Unfavorable),\n",
    ")\n",
    "\n",
    "DI(\n",
    "    unprivileged_favorable=vc.Female.Favorable,\n",
    "    privileged_favorable=vc.Male.Favorable,\n",
    "    total_unprivileged=(vc.Female.Favorable + vc.Female.Unfavorable),\n",
    "    total_privileged=(vc.Male.Favorable + vc.Male.Unfavorable),\n",
    ")"
   ]
  },
  {
   "cell_type": "code",
   "execution_count": null,
   "metadata": {},
   "outputs": [],
   "source": []
  },
  {
   "cell_type": "markdown",
   "metadata": {},
   "source": [
    "# 4.5: Sex/Income - WITH Transformation - Predictions"
   ]
  },
  {
   "cell_type": "code",
   "execution_count": 590,
   "metadata": {},
   "outputs": [
    {
     "name": "stdout",
     "output_type": "stream",
     "text": [
      "gender  default_income_outcome\n",
      "Female  Favorable                 1344\n",
      "        Unfavorable               3573\n",
      "Male    Favorable                 3250\n",
      "        Unfavorable               6486\n",
      "dtype: int64\n",
      "SPD=-0.06047525321319941\n",
      "DI=0.818834749143474\n"
     ]
    }
   ],
   "source": [
    "x_trans_test['default_income_outcome'] = y_test_transf_preds\n",
    "\n",
    "x_trans_test['gender'][x_trans_test['gender'] == 1.0] = 'Male'\n",
    "x_trans_test['gender'][x_trans_test['gender'] == 0.0] = 'Female'\n",
    "\n",
    "\n",
    "x_trans_test['default_income_outcome'][x_trans_test['default_income_outcome'] == 1] = 'Favorable'\n",
    "x_trans_test['default_income_outcome'][x_trans_test['default_income_outcome'] == 0] = 'Unfavorable'\n",
    "\n",
    "\n",
    "# Sex/Income\n",
    "vc = x_trans_test.value_counts(['gender', 'default_income_outcome']).sort_index()\n",
    "print(vc)\n",
    "\n",
    "SPD(\n",
    "    unprivileged_favorable=vc.Female.Favorable,\n",
    "    privileged_favorable=vc.Male.Favorable,\n",
    "    total_unprivileged=(vc.Female.Favorable + vc.Female.Unfavorable),\n",
    "    total_privileged=(vc.Male.Favorable + vc.Male.Unfavorable),\n",
    ")\n",
    "\n",
    "DI(\n",
    "    unprivileged_favorable=vc.Female.Favorable,\n",
    "    privileged_favorable=vc.Male.Favorable,\n",
    "    total_unprivileged=(vc.Female.Favorable + vc.Female.Unfavorable),\n",
    "    total_privileged=(vc.Male.Favorable + vc.Male.Unfavorable),\n",
    ")"
   ]
  },
  {
   "cell_type": "code",
   "execution_count": null,
   "metadata": {},
   "outputs": [],
   "source": []
  },
  {
   "cell_type": "code",
   "execution_count": null,
   "metadata": {},
   "outputs": [],
   "source": []
  },
  {
   "cell_type": "markdown",
   "metadata": {},
   "source": [
    "# Step 5"
   ]
  },
  {
   "cell_type": "code",
   "execution_count": 646,
   "metadata": {},
   "outputs": [],
   "source": [
    "def draw_sdp(x=1, y=1, xlim=(0, 2), ylim=(-1, 1), title=\"SPD title\", color=None):\n",
    "    x = [x]\n",
    "    y = [y]\n",
    "    fig, ax = plt.subplots(1, 1)\n",
    "    ax.bar(x, y, width=1, color=color)\n",
    "    ax.set_xlim(xlim)\n",
    "    ax.set_ylim(ylim)\n",
    "    plt.grid()\n",
    "    plt.title(title, fontdict={'fontsize': 15, 'fontweight': 'heavy'})\n",
    "    plt.xticks([])\n",
    "    plt.show()\n",
    "    \n",
    "    \n",
    "def draw_di(x=1, y=1, xlim=(0, 2), ylim=(0, 2), title=\"DI title\"):\n",
    "    x = [x]\n",
    "    y = [y]\n",
    "    fig, ax = plt.subplots(1, 1)\n",
    "    ax.bar(x, y, width=1, color=color)\n",
    "    ax.set_xlim(xlim)\n",
    "    ax.set_ylim(ylim)\n",
    "    plt.grid()\n",
    "    plt.title(title, fontdict={'fontsize': 15, 'fontweight': 'heavy'})\n",
    "    plt.xticks([])\n",
    "    plt.show()"
   ]
  },
  {
   "cell_type": "markdown",
   "metadata": {},
   "source": [
    "### Grpahs for 3.2: Before Mitigation"
   ]
  },
  {
   "cell_type": "code",
   "execution_count": 647,
   "metadata": {},
   "outputs": [
    {
     "data": {
      "image/png": "[encoded data removed]",
      "text/plain": [
       "<Figure size 432x288 with 1 Axes>"
      ]
     },
     "metadata": {
      "needs_background": "light"
     },
     "output_type": "display_data"
    },
    {
     "data": {
      "image/png": "[encoded data removed]",
      "text/plain": [
       "<Figure size 432x288 with 1 Axes>"
      ]
     },
     "metadata": {
      "needs_background": "light"
     },
     "output_type": "display_data"
    }
   ],
   "source": [
    "# 3.2 Sex/Income: Before Mitigation\n",
    "\n",
    "draw_sdp(\n",
    "    x=1,\n",
    "    y=-0.251049954148987,\n",
    "    title=\"SPD \\nProtected Class: Sex \\nDependent Variable: Income\"\n",
    ")\n",
    "\n",
    "draw_sdp(\n",
    "    x=1,\n",
    "    y=0.5229992433097983,\n",
    "    xlim=(0, 2),\n",
    "    ylim=(0, 2),\n",
    "    title=\"DI \\nProtected Class:Sex \\nDependent Variable: Income\"\n",
    ")"
   ]
  },
  {
   "cell_type": "code",
   "execution_count": 648,
   "metadata": {},
   "outputs": [
    {
     "data": {
      "image/png": "[encoded data removed]",
      "text/plain": [
       "<Figure size 432x288 with 1 Axes>"
      ]
     },
     "metadata": {
      "needs_background": "light"
     },
     "output_type": "display_data"
    },
    {
     "data": {
      "image/png": "[encoded data removed]",
      "text/plain": [
       "<Figure size 432x288 with 1 Axes>"
      ]
     },
     "metadata": {
      "needs_background": "light"
     },
     "output_type": "display_data"
    }
   ],
   "source": [
    "# 3.2 # Sex/Education: Before Mitigation\n",
    "\n",
    "draw_sdp(\n",
    "    x=1,\n",
    "    y=-0.04135993272158295,\n",
    "    title=\"SPD \\nProtected Class: Sex \\nDependent Variable: Education\"\n",
    ")\n",
    "\n",
    "draw_sdp(\n",
    "    x=1,\n",
    "    y=0.8419288536392738,\n",
    "    xlim=(0, 2),\n",
    "    ylim=(0, 2),\n",
    "    title=\"DI \\nProtected Class:Sex \\nDependent Variable: Education\"\n",
    ")\n"
   ]
  },
  {
   "cell_type": "code",
   "execution_count": 649,
   "metadata": {},
   "outputs": [
    {
     "data": {
      "image/png": "[encoded data removed]",
      "text/plain": [
       "<Figure size 432x288 with 1 Axes>"
      ]
     },
     "metadata": {
      "needs_background": "light"
     },
     "output_type": "display_data"
    },
    {
     "data": {
      "image/png": "[encoded data removed]",
      "text/plain": [
       "<Figure size 432x288 with 1 Axes>"
      ]
     },
     "metadata": {
      "needs_background": "light"
     },
     "output_type": "display_data"
    }
   ],
   "source": [
    "# 3.2 Race/Income: Before Mitigation\n",
    "\n",
    "draw_sdp(\n",
    "    x=1,\n",
    "    y=-0.4476630215828895,\n",
    "    title=\"SPD \\nProtected Class: Race \\nDependent Variable: Income\"\n",
    ")\n",
    "\n",
    "draw_sdp(\n",
    "    x=1,\n",
    "    y=0.11872805188344336,\n",
    "    xlim=(0, 2),\n",
    "    ylim=(0, 2),\n",
    "    title=\"DI \\nProtected Class:Race \\nDependent Variable: Income\"\n",
    ")\n"
   ]
  },
  {
   "cell_type": "code",
   "execution_count": 650,
   "metadata": {},
   "outputs": [
    {
     "data": {
      "image/png": "[encoded data removed]",
      "text/plain": [
       "<Figure size 432x288 with 1 Axes>"
      ]
     },
     "metadata": {
      "needs_background": "light"
     },
     "output_type": "display_data"
    },
    {
     "data": {
      "image/png": "[encoded data removed]",
      "text/plain": [
       "<Figure size 432x288 with 1 Axes>"
      ]
     },
     "metadata": {
      "needs_background": "light"
     },
     "output_type": "display_data"
    }
   ],
   "source": [
    "# 3.2 Race/Education: Before Mitigation\n",
    "\n",
    "draw_sdp(\n",
    "    x=1,\n",
    "    y=-0.0497929618389058,\n",
    "    title=\"SPD \\nProtected Class: Race \\nDependent Variable: Education\"\n",
    ")\n",
    "\n",
    "draw_sdp(\n",
    "    x=1,\n",
    "    y=0.8048560742946336,\n",
    "    xlim=(0, 2),\n",
    "    ylim=(0, 2),\n",
    "    title=\"DI \\nProtected Class:Race \\nDependent Variable: Education\"\n",
    ")\n"
   ]
  },
  {
   "cell_type": "code",
   "execution_count": null,
   "metadata": {},
   "outputs": [],
   "source": []
  },
  {
   "cell_type": "markdown",
   "metadata": {},
   "source": [
    "## Graphs for after mitigation"
   ]
  },
  {
   "cell_type": "code",
   "execution_count": 651,
   "metadata": {},
   "outputs": [
    {
     "data": {
      "image/png": "[encoded data removed]",
      "text/plain": [
       "<Figure size 432x288 with 1 Axes>"
      ]
     },
     "metadata": {
      "needs_background": "light"
     },
     "output_type": "display_data"
    },
    {
     "data": {
      "image/png": "[encoded data removed]",
      "text/plain": [
       "<Figure size 432x288 with 1 Axes>"
      ]
     },
     "metadata": {
      "needs_background": "light"
     },
     "output_type": "display_data"
    }
   ],
   "source": [
    "# 3.4 Sex/Income: After Mitigation\n",
    "\n",
    "draw_sdp(\n",
    "    x=1,\n",
    "    y=-0.05196879028987522,\n",
    "    title=\"SPD \\nProtected Class: Sex \\nDependent Variable: Income\",\n",
    "    color=\"green\"\n",
    ")\n",
    "\n",
    "draw_sdp(\n",
    "    x=1,\n",
    "    y=0.8411848555817647,\n",
    "    xlim=(0, 2),\n",
    "    ylim=(0, 2),\n",
    "    title=\"DI \\nProtected Class:Sex \\nDependent Variable: Income\",\n",
    "    color=\"green\"\n",
    ")"
   ]
  },
  {
   "cell_type": "code",
   "execution_count": 652,
   "metadata": {},
   "outputs": [
    {
     "ename": "SyntaxError",
     "evalue": "invalid syntax (<ipython-input-652-3a4ba06e6593>, line 16)",
     "output_type": "error",
     "traceback": [
      "\u001b[0;36m  File \u001b[0;32m\"<ipython-input-652-3a4ba06e6593>\"\u001b[0;36m, line \u001b[0;32m16\u001b[0m\n\u001b[0;31m    color=\"green\"\u001b[0m\n\u001b[0m        ^\u001b[0m\n\u001b[0;31mSyntaxError\u001b[0m\u001b[0;31m:\u001b[0m invalid syntax\n"
     ]
    }
   ],
   "source": [
    "# 3.4 Sex/Education: After Mitigation\n",
    "\n",
    "draw_sdp(\n",
    "    x=1,\n",
    "    y=0.012506124817655229,\n",
    "    title=\"SPD \\nProtected Class: Sex \\nDependent Variable: Education\",\n",
    "    color=\"green\"\n",
    ")\n",
    "\n",
    "draw_sdp(\n",
    "    x=1,\n",
    "    y=1.0144637092308613,\n",
    "    xlim=(0, 2),\n",
    "    ylim=(0, 2),\n",
    "    title=\"DI \\nProtected Class:Sex \\nDependent Variable: Education\"\n",
    "    color=\"green\"\n",
    ")\n"
   ]
  },
  {
   "cell_type": "code",
   "execution_count": 653,
   "metadata": {},
   "outputs": [
    {
     "data": {
      "image/png": "[encoded data removed]",
      "text/plain": [
       "<Figure size 432x288 with 1 Axes>"
      ]
     },
     "metadata": {
      "needs_background": "light"
     },
     "output_type": "display_data"
    },
    {
     "data": {
      "image/png": "[encoded data removed]",
      "text/plain": [
       "<Figure size 432x288 with 1 Axes>"
      ]
     },
     "metadata": {
      "needs_background": "light"
     },
     "output_type": "display_data"
    }
   ],
   "source": [
    "# 3.4 Race/Income: After Mitigation\n",
    "\n",
    "draw_sdp(\n",
    "    x=1,\n",
    "    y=-0.08960867704184351,\n",
    "    title=\"SPD \\nProtected Class: Race \\nDependent Variable: Income\",\n",
    "    color=\"green\"\n",
    ")\n",
    "\n",
    "draw_sdp(\n",
    "    x=1,\n",
    "    y=0.27363401191353476,\n",
    "    xlim=(0, 2),\n",
    "    ylim=(0, 2),\n",
    "    title=\"DI \\nProtected Class:Race \\nDependent Variable: Income\",\n",
    "    color=\"green\"\n",
    ")\n"
   ]
  },
  {
   "cell_type": "code",
   "execution_count": 654,
   "metadata": {},
   "outputs": [
    {
     "data": {
      "image/png": "[encoded data removed]",
      "text/plain": [
       "<Figure size 432x288 with 1 Axes>"
      ]
     },
     "metadata": {
      "needs_background": "light"
     },
     "output_type": "display_data"
    },
    {
     "data": {
      "image/png": "[encoded data removed]",
      "text/plain": [
       "<Figure size 432x288 with 1 Axes>"
      ]
     },
     "metadata": {
      "needs_background": "light"
     },
     "output_type": "display_data"
    }
   ],
   "source": [
    "# 3.4 Race/Education: After Mitigation\n",
    "\n",
    "draw_sdp(\n",
    "    x=1,\n",
    "    y=-0.036360258575836135,\n",
    "    title=\"SPD \\nProtected Class: Race \\nDependent Variable: Education\",\n",
    "    color=\"green\"\n",
    ")\n",
    "\n",
    "draw_sdp(\n",
    "    x=1,\n",
    "    y=0.9584013062311572,\n",
    "    xlim=(0, 2),\n",
    "    ylim=(0, 2),\n",
    "    title=\"DI \\nProtected Class:Race \\nDependent Variable: Education\",\n",
    "    color=\"green\"\n",
    ")\n"
   ]
  },
  {
   "cell_type": "code",
   "execution_count": null,
   "metadata": {},
   "outputs": [],
   "source": []
  },
  {
   "cell_type": "code",
   "execution_count": 638,
   "metadata": {},
   "outputs": [
    {
     "data": {
      "image/png": "[encoded data removed]",
      "text/plain": [
       "<Figure size 432x288 with 1 Axes>"
      ]
     },
     "metadata": {
      "needs_background": "light"
     },
     "output_type": "display_data"
    },
    {
     "data": {
      "image/png": "[encoded data removed]",
      "text/plain": [
       "<Figure size 432x288 with 1 Axes>"
      ]
     },
     "metadata": {
      "needs_background": "light"
     },
     "output_type": "display_data"
    }
   ],
   "source": [
    "# 4.5 Sex/Income - Without Transformation - Predictions \n",
    "\n",
    "draw_sdp(\n",
    "    x=1,\n",
    "    y=-0.2602492877242923,\n",
    "    title=\"SPD \\nProtected Class: Sex \\nDependent Variable: Income\"\n",
    ")\n",
    "\n",
    "draw_sdp(\n",
    "    x=1,\n",
    "    y=0.5122642800223851,\n",
    "    xlim=(0, 2),\n",
    "    ylim=(0, 2),\n",
    "    title=\"DI \\nProtected Class:Sex \\nDependent Variable: Income\"\n",
    ")\n"
   ]
  },
  {
   "cell_type": "code",
   "execution_count": 639,
   "metadata": {},
   "outputs": [
    {
     "data": {
      "image/png": "[encoded data removed]",
      "text/plain": [
       "<Figure size 432x288 with 1 Axes>"
      ]
     },
     "metadata": {
      "needs_background": "light"
     },
     "output_type": "display_data"
    },
    {
     "data": {
      "image/png": "[encoded data removed]",
      "text/plain": [
       "<Figure size 432x288 with 1 Axes>"
      ]
     },
     "metadata": {
      "needs_background": "light"
     },
     "output_type": "display_data"
    }
   ],
   "source": [
    "# 4.5 Sex/Income - WITH Transformation - Predictions\n",
    "\n",
    "draw_sdp(\n",
    "    x=1,\n",
    "    y=-0.06047525321319941,\n",
    "    title=\"SPD \\nProtected Class: Sex \\nDependent Variable: Income\"\n",
    ")\n",
    "\n",
    "draw_sdp(\n",
    "    x=1,\n",
    "    y=0.818834749143474,\n",
    "    xlim=(0, 2),\n",
    "    ylim=(0, 2),\n",
    "    title=\"DI \\nProtected Class:Sex \\nDependent Variable: Income\"\n",
    ")\n"
   ]
  },
  {
   "cell_type": "code",
   "execution_count": null,
   "metadata": {},
   "outputs": [],
   "source": []
  }
 ],
 "metadata": {
  "kernelspec": {
   "display_name": "Python 3",
   "language": "python",
   "name": "python3"
  },
  "language_info": {
   "codemirror_mode": {
    "name": "ipython",
    "version": 3
   },
   "file_extension": ".py",
   "mimetype": "text/x-python",
   "name": "python",
   "nbconvert_exporter": "python",
   "pygments_lexer": "ipython3",
   "version": "3.7.10"
  }
 },
 "nbformat": 4,
 "nbformat_minor": 2
}
